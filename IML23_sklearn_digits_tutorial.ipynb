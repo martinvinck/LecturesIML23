{
 "cells": [
  {
   "cell_type": "code",
   "execution_count": null,
   "id": "86082a5e",
   "metadata": {},
   "outputs": [],
   "source": [
    "import numpy as np\n",
    "import matplotlib.pyplot as plt\n",
    "import seaborn as sns\n",
    "from sklearn.neural_network import MLPClassifier\n",
    "from sklearn.neighbors import KNeighborsClassifier\n",
    "from sklearn.metrics import confusion_matrix, classification_report\n",
    "from sklearn.preprocessing import StandardScaler, LabelEncoder\n",
    "from sklearn.model_selection import train_test_split\n",
    "from sklearn.inspection import DecisionBoundaryDisplay\n",
    "%matplotlib inline"
   ]
  },
  {
   "cell_type": "code",
   "execution_count": null,
   "id": "567ab7d8",
   "metadata": {},
   "outputs": [],
   "source": [
    "from sklearn.datasets import load_digits\n",
    "digits = load_digits()"
   ]
  },
  {
   "cell_type": "code",
   "execution_count": null,
   "id": "4444546b",
   "metadata": {},
   "outputs": [],
   "source": [
    "digits.keys()"
   ]
  },
  {
   "cell_type": "code",
   "execution_count": null,
   "id": "97d8ba7c",
   "metadata": {},
   "outputs": [],
   "source": [
    "digits['feature_names']"
   ]
  },
  {
   "cell_type": "code",
   "execution_count": null,
   "id": "11369784",
   "metadata": {},
   "outputs": [],
   "source": [
    "plt.imshow(digits.images[0],cmap='gray')\n",
    "y = digits['target']\n",
    "y[0]"
   ]
  },
  {
   "cell_type": "code",
   "execution_count": null,
   "id": "19042221",
   "metadata": {},
   "outputs": [],
   "source": [
    "digits['target_names']"
   ]
  },
  {
   "cell_type": "code",
   "execution_count": null,
   "id": "bc105a00",
   "metadata": {},
   "outputs": [],
   "source": [
    "X = digits.data\n",
    "type(X)"
   ]
  },
  {
   "cell_type": "code",
   "execution_count": null,
   "id": "2b8b37b6",
   "metadata": {},
   "outputs": [],
   "source": [
    "X.shape"
   ]
  },
  {
   "cell_type": "code",
   "execution_count": null,
   "id": "a40bbfe5",
   "metadata": {},
   "outputs": [],
   "source": [
    "y = digits.target\n",
    "type(y)"
   ]
  },
  {
   "cell_type": "code",
   "execution_count": null,
   "id": "65c009ad",
   "metadata": {},
   "outputs": [],
   "source": [
    "y.shape"
   ]
  },
  {
   "cell_type": "code",
   "execution_count": null,
   "id": "eb503a29",
   "metadata": {},
   "outputs": [],
   "source": [
    "X_train,X_test,y_train,y_test = train_test_split(X,y,random_state=0)"
   ]
  },
  {
   "cell_type": "code",
   "execution_count": null,
   "id": "b35345f4",
   "metadata": {},
   "outputs": [],
   "source": [
    "X_train.shape, X_test.shape"
   ]
  },
  {
   "cell_type": "code",
   "execution_count": null,
   "id": "50f614ed",
   "metadata": {},
   "outputs": [],
   "source": [
    "# this formatter will label the colorbar with the correct target names\n",
    "x_index = 20\n",
    "y_index = 30\n",
    "formatter = plt.FuncFormatter(lambda i, *args: digits.target_names[int(i)])\n",
    "\n",
    "plt.scatter(digits.data[:, x_index], digits.data[:, y_index],\n",
    "            c=digits.target, cmap=plt.colormaps.get_cmap('RdYlBu'))\n",
    "plt.colorbar(ticks=[0, 1, 2, 3, 4, 5, 6, 7, 8, 9], format=formatter)\n",
    "plt.clim(-0.5, 10)\n",
    "plt.xlabel(digits.feature_names[x_index])\n",
    "plt.ylabel(digits.feature_names[y_index]);"
   ]
  },
  {
   "cell_type": "code",
   "execution_count": null,
   "id": "de6b58e7",
   "metadata": {},
   "outputs": [],
   "source": [
    "sc = StandardScaler()\n",
    "X_train = sc.fit_transform(X_train)\n",
    "X_test = sc.transform(X_test)\n",
    "np.std(X_train,axis=0)"
   ]
  },
  {
   "cell_type": "code",
   "execution_count": null,
   "id": "55902ca0",
   "metadata": {},
   "outputs": [],
   "source": [
    "knn = KNeighborsClassifier(n_neighbors=5)\n",
    "classifier = knn.fit(X_train,y_train)\n",
    "pred_knn = knn.predict(X_test)\n",
    "print(classification_report(y_test, pred_knn))\n",
    "print(confusion_matrix(y_test, pred_knn))"
   ]
  },
  {
   "cell_type": "code",
   "execution_count": null,
   "id": "17da1224",
   "metadata": {},
   "outputs": [],
   "source": [
    "mlpc = MLPClassifier(hidden_layer_sizes=(11,11,11),max_iter=2000)\n",
    "mlpc.fit(X_train,y_train)\n",
    "pred_mlpc = mlpc.predict(X_test)\n",
    "print(classification_report(y_test,pred_mlpc))\n",
    "print(confusion_matrix(y_test,pred_mlpc))"
   ]
  },
  {
   "cell_type": "code",
   "execution_count": null,
   "id": "3118b33f",
   "metadata": {},
   "outputs": [],
   "source": [
    "from sklearn.decomposition import PCA\n",
    "pc = PCA(2)  # project from 64 to 2 dimensions\n",
    "Xproj = pc.fit_transform(X)\n",
    "print(X.shape)\n",
    "print(Xproj.shape)"
   ]
  },
  {
   "cell_type": "code",
   "execution_count": null,
   "id": "d18cff26",
   "metadata": {},
   "outputs": [],
   "source": [
    "plt.scatter(Xproj[:, 0], Xproj[:, 1], c=y, edgecolor='none', alpha=0.5, cmap=plt.colormaps.get_cmap('hot'))\n"
   ]
  },
  {
   "cell_type": "code",
   "execution_count": null,
   "id": "40e0aa5e",
   "metadata": {},
   "outputs": [],
   "source": [
    "pc = PCA(64) \n",
    "pc.fit_transform(X)\n",
    "plt.plot(np.cumsum(pc.explained_variance_ratio_))\n",
    "plt.xlabel('number of components')\n",
    "plt.ylabel('cumulative explained variance')"
   ]
  }
 ],
 "metadata": {
  "kernelspec": {
   "display_name": "Python 3 (ipykernel)",
   "language": "python",
   "name": "python3"
  },
  "language_info": {
   "codemirror_mode": {
    "name": "ipython",
    "version": 3
   },
   "file_extension": ".py",
   "mimetype": "text/x-python",
   "name": "python",
   "nbconvert_exporter": "python",
   "pygments_lexer": "ipython3",
   "version": "3.9.2"
  }
 },
 "nbformat": 4,
 "nbformat_minor": 5
}
