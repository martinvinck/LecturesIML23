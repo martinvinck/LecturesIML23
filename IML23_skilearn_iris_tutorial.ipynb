{
 "cells": [
  {
   "cell_type": "code",
   "execution_count": null,
   "id": "940fe047",
   "metadata": {},
   "outputs": [],
   "source": [
    "import numpy as np\n",
    "import matplotlib.pyplot as plt\n",
    "\n",
    "# import from different modules\n",
    "from sklearn.neural_network import MLPClassifier \n",
    "#note you could also just import sklearn and then call sklearn.neural_network.MLPClassifier\n",
    "from sklearn.neighbors import KNeighborsClassifier\n",
    "from sklearn.metrics import confusion_matrix, classification_report\n",
    "from sklearn.preprocessing import StandardScaler, LabelEncoder\n",
    "from sklearn.model_selection import train_test_split\n",
    "from sklearn.ensemble import RandomForestClassifier\n",
    "from sklearn.tree import DecisionTreeClassifier\n",
    "from sklearn.inspection import DecisionBoundaryDisplay\n",
    "from sklearn import linear_model\n",
    "%matplotlib inline"
   ]
  },
  {
   "cell_type": "code",
   "execution_count": null,
   "id": "c4ce5e88",
   "metadata": {},
   "outputs": [],
   "source": [
    "# images are uploaded on brightspace, make sure images is in the current directory\n",
    "from IPython.display import Image, display\n",
    "display(Image(filename='images/iris_setosa.jpg'))\n",
    "print(\"Iris Setosa\\n\")\n",
    "\n",
    "display(Image(filename='images/iris_versicolor.jpg'))\n",
    "print(\"Iris Versicolor\\n\")\n",
    "\n",
    "display(Image(filename='images/iris_virginica.jpg'))\n",
    "print(\"Iris Virginica\")"
   ]
  },
  {
   "cell_type": "markdown",
   "id": "4915f37b",
   "metadata": {},
   "source": [
    "# THREE KINDS OF IRIS FLOWERS\n",
    "\n",
    "What would be useful features to discriminate them on? \n"
   ]
  },
  {
   "cell_type": "code",
   "execution_count": null,
   "id": "02fc6276",
   "metadata": {},
   "outputs": [],
   "source": [
    "from sklearn.datasets import load_iris\n",
    "iris = load_iris()"
   ]
  },
  {
   "cell_type": "code",
   "execution_count": null,
   "id": "8fe420ea",
   "metadata": {},
   "outputs": [],
   "source": [
    "iris.keys()"
   ]
  },
  {
   "cell_type": "code",
   "execution_count": null,
   "id": "7f4e3acb",
   "metadata": {},
   "outputs": [],
   "source": [
    "iris['feature_names'] "
   ]
  },
  {
   "cell_type": "code",
   "execution_count": null,
   "id": "75424b41",
   "metadata": {},
   "outputs": [],
   "source": [
    "display(Image(filename='images/iris_features.jpg'))\n",
    "print(\"Iris Features\")"
   ]
  },
  {
   "cell_type": "code",
   "execution_count": null,
   "id": "237467f5",
   "metadata": {},
   "outputs": [],
   "source": [
    "iris['target_names']"
   ]
  },
  {
   "cell_type": "code",
   "execution_count": null,
   "id": "f92b590a",
   "metadata": {},
   "outputs": [],
   "source": [
    "X = iris.data\n",
    "type(X)"
   ]
  },
  {
   "cell_type": "code",
   "execution_count": null,
   "id": "26f2fd87",
   "metadata": {},
   "outputs": [],
   "source": [
    "X.shape"
   ]
  },
  {
   "cell_type": "code",
   "execution_count": null,
   "id": "efa27900",
   "metadata": {},
   "outputs": [],
   "source": [
    "y = iris.target\n",
    "type(y)"
   ]
  },
  {
   "cell_type": "code",
   "execution_count": null,
   "id": "c257f2bc",
   "metadata": {},
   "outputs": [],
   "source": [
    "y.shape"
   ]
  },
  {
   "cell_type": "markdown",
   "id": "6c709e19",
   "metadata": {},
   "source": [
    "# Create test and training set\n",
    "Here we create a test and training set, for more options see train_test_split documentation"
   ]
  },
  {
   "cell_type": "code",
   "execution_count": null,
   "id": "6bf13ca7",
   "metadata": {},
   "outputs": [],
   "source": [
    "X_train,X_test,y_train,y_test = train_test_split(X,y,random_state=0)"
   ]
  },
  {
   "cell_type": "code",
   "execution_count": null,
   "id": "988db349",
   "metadata": {},
   "outputs": [],
   "source": [
    "X_train.shape, X_test.shape"
   ]
  },
  {
   "cell_type": "code",
   "execution_count": null,
   "id": "754a01b7",
   "metadata": {},
   "outputs": [],
   "source": [
    "# this formatter will label the colorbar with the correct target names\n",
    "x_index = 2 # change this to see different features\n",
    "y_index = 3 # change this to see different features\n",
    "formatter = plt.FuncFormatter(lambda i, *args: iris.target_names[int(i)])\n",
    "\n",
    "plt.scatter(iris.data[:, x_index], iris.data[:, y_index],\n",
    "            c=iris.target, cmap=plt.colormaps.get_cmap('RdYlBu'))\n",
    "plt.colorbar(ticks=[0, 1, 2], format=formatter)\n",
    "plt.clim(-0.5, 2.5)\n",
    "plt.xlabel(iris.feature_names[x_index])\n",
    "plt.ylabel(iris.feature_names[y_index]);"
   ]
  },
  {
   "cell_type": "markdown",
   "id": "4651c156",
   "metadata": {},
   "source": [
    "# We are going to scale our data, which is z-scoring\n",
    "\n",
    "Note that we use only the training data to scale! \n",
    "\n",
    "The reason is that we do not want to have any influence of the test data on the training data (using .fit)\n",
    "\n",
    "The test data is therefore scaled again, but according to the standard deviation of the training data (using .transform). \n"
   ]
  },
  {
   "cell_type": "code",
   "execution_count": null,
   "id": "68cc55e3",
   "metadata": {},
   "outputs": [],
   "source": [
    "sc = StandardScaler()\n",
    "X_train = sc.fit_transform(X_train)\n",
    "X_test = sc.transform(X_test)\n",
    "np.std(X_train,axis=0)"
   ]
  },
  {
   "cell_type": "markdown",
   "id": "d9065958",
   "metadata": {},
   "source": [
    "# Load an example classifier\n",
    "\n",
    "Note the standard sequence of .fit, .predict, and evaluate performance"
   ]
  },
  {
   "cell_type": "code",
   "execution_count": null,
   "id": "961aad3c",
   "metadata": {},
   "outputs": [],
   "source": [
    "knn = KNeighborsClassifier(n_neighbors=5)\n",
    "classifier = knn.fit(X_train,y_train)\n",
    "pred_knn = knn.predict(X_test)\n",
    "print(classification_report(y_test, pred_knn))\n",
    "print(confusion_matrix(y_test, pred_knn))"
   ]
  },
  {
   "cell_type": "markdown",
   "id": "23588c5d",
   "metadata": {},
   "source": [
    "# Load another example classifier, note that we have the same structure of calling the model\n",
    "\n",
    "Note the standard sequence of .fit, .predict, and evaluate performance"
   ]
  },
  {
   "cell_type": "code",
   "execution_count": null,
   "id": "86b41b1e",
   "metadata": {},
   "outputs": [],
   "source": [
    "mlpc = MLPClassifier(hidden_layer_sizes=(11,11,11),max_iter=2000)\n",
    "mlpc.fit(X_train,y_train)\n",
    "pred_mlpc = mlpc.predict(X_test)\n",
    "print(classification_report(y_test,pred_mlpc))\n",
    "print(confusion_matrix(y_test,pred_mlpc))"
   ]
  },
  {
   "cell_type": "markdown",
   "id": "d325912d",
   "metadata": {},
   "source": [
    "# LET US VISUALIZE DIFFERENT CLASSIFIERS TO UNDERSTAND THEIR PROPERTIES\n"
   ]
  },
  {
   "cell_type": "code",
   "execution_count": null,
   "id": "68ef7220",
   "metadata": {},
   "outputs": [],
   "source": [
    "fet_1 = 2\n",
    "fet_2 = 3\n",
    "nums = [0,1,2,3]\n",
    "for num in nums: \n",
    "    if num==0: \n",
    "        clf = KNeighborsClassifier(n_neighbors=5)\n",
    "#alternative model: outcomment\n",
    "    elif num==1: \n",
    "        clf = DecisionTreeClassifier(max_depth=4)\n",
    "    elif num==2:  \n",
    "        clf = linear_model.SGDClassifier()\n",
    "    elif num==3:\n",
    "        clf = MLPClassifier(hidden_layer_sizes=(11,11,11),max_iter=2000)       \n",
    "    classifier = clf.fit(X_train[:,[fet_1,fet_2]],y_train)\n",
    "    disp = DecisionBoundaryDisplay.from_estimator(classifier, \n",
    "                                              X_train[:,[fet_1,fet_2]], \n",
    "                                              response_method=\"predict\",\n",
    "                                              xlabel=iris.feature_names[2], ylabel=iris.feature_names[3],\n",
    "                                              alpha=0.5,cmap = plt.cm.coolwarm)\n",
    "\n",
    "    # Plotting the data points    \n",
    "    disp.ax_.scatter(X_train[:, fet_1], X_train[:, fet_2], \n",
    "                 c=y_train, edgecolor=\"k\",cmap = plt.cm.coolwarm)\n",
    "\n",
    "    plt.title(num)\n",
    "    plt.show()"
   ]
  },
  {
   "cell_type": "markdown",
   "id": "5331a821",
   "metadata": {},
   "source": [
    "# Data can also be transformed to pandas format, which is nice to inspect and use"
   ]
  },
  {
   "cell_type": "code",
   "execution_count": null,
   "id": "89efe7bc",
   "metadata": {},
   "outputs": [],
   "source": [
    "import pandas as pd \n",
    "df = pd.DataFrame(np.concatenate((iris.data, np.array([iris.target]).T), axis=1),\n",
    "                  columns=iris.feature_names + ['target'])\n",
    "df.head(100)"
   ]
  },
  {
   "cell_type": "markdown",
   "id": "fd957dc6",
   "metadata": {},
   "source": [
    "# We can compute the means of the data to see which features pop out"
   ]
  },
  {
   "cell_type": "code",
   "execution_count": null,
   "id": "4546c4a9",
   "metadata": {},
   "outputs": [],
   "source": [
    "print(np.mean(df[df['target']==0],axis=0))\n",
    "print(np.mean(df[df['target']==1],axis=0))\n",
    "print(np.mean(df[df['target']==2],axis=0))"
   ]
  }
 ],
 "metadata": {
  "kernelspec": {
   "display_name": "Python 3 (ipykernel)",
   "language": "python",
   "name": "python3"
  },
  "language_info": {
   "codemirror_mode": {
    "name": "ipython",
    "version": 3
   },
   "file_extension": ".py",
   "mimetype": "text/x-python",
   "name": "python",
   "nbconvert_exporter": "python",
   "pygments_lexer": "ipython3",
   "version": "3.9.2"
  }
 },
 "nbformat": 4,
 "nbformat_minor": 5
}
